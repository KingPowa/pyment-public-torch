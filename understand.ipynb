{
 "cells": [
  {
   "cell_type": "code",
   "execution_count": 1,
   "metadata": {},
   "outputs": [],
   "source": [
    "from torch.nn import MaxPool2d,Module,Sequential\n",
    "from captum.attr._utils.lrp_rules import EpsilonRule\n",
    "import torch\n",
    "from collections import OrderedDict"
   ]
  },
  {
   "cell_type": "code",
   "execution_count": 2,
   "metadata": {},
   "outputs": [],
   "source": [
    "layer1 = MaxPool2d((2,2), 2)\n",
    "\n",
    "class Simple(Module):\n",
    "\n",
    "    def __init__(self, *args, **kwargs):\n",
    "        super().__init__(*args, **kwargs)\n",
    "        self.rule = EpsilonRule()\n",
    "\n",
    "    def forward(self, x: torch.Tensor):\n",
    "        return x.sum(dim=[i+1 for i,_ in enumerate(x.shape[1:])])\n",
    "    \n",
    "layer = Sequential(OrderedDict({\"one\": layer1, \"two\": Simple()}))"
   ]
  },
  {
   "cell_type": "code",
   "execution_count": 3,
   "metadata": {},
   "outputs": [
    {
     "data": {
      "text/plain": [
       "Sequential(\n",
       "  (one): MaxPool2d(kernel_size=(2, 2), stride=2, padding=0, dilation=1, ceil_mode=False)\n",
       "  (two): Simple()\n",
       ")"
      ]
     },
     "execution_count": 3,
     "metadata": {},
     "output_type": "execute_result"
    }
   ],
   "source": [
    "layer"
   ]
  },
  {
   "cell_type": "code",
   "execution_count": 4,
   "metadata": {},
   "outputs": [
    {
     "data": {
      "text/plain": [
       "tensor([[[ 1.,  1.,  1.,  1.],\n",
       "         [ 1., 10.,  1.,  1.],\n",
       "         [ 1.,  1.,  1.,  1.],\n",
       "         [ 1.,  1.,  1.,  1.]]])"
      ]
     },
     "execution_count": 4,
     "metadata": {},
     "output_type": "execute_result"
    }
   ],
   "source": [
    "input = torch.ones((1,4,4))\n",
    "input[0,[1],[1]] = 10\n",
    "input"
   ]
  },
  {
   "cell_type": "code",
   "execution_count": 5,
   "metadata": {},
   "outputs": [],
   "source": [
    "# input.requires_grad = True"
   ]
  },
  {
   "cell_type": "code",
   "execution_count": 12,
   "metadata": {},
   "outputs": [
    {
     "data": {
      "text/plain": [
       "tensor([[[10.,  1.],\n",
       "         [ 1.,  1.]]])"
      ]
     },
     "execution_count": 12,
     "metadata": {},
     "output_type": "execute_result"
    }
   ],
   "source": [
    "output = layer1(input)\n",
    "output"
   ]
  },
  {
   "cell_type": "code",
   "execution_count": 7,
   "metadata": {},
   "outputs": [],
   "source": [
    "def print_backward_hook(module, grad_input, grad_output):\n",
    "    print(\"Backward pass gradients (relevances):\")\n",
    "    print(grad_output, grad_output[0].detach().sum())  # grad_output[0] contains the gradients with respect to the output\n",
    "    \n",
    "    print(\"Backward pass gradients - input (relevances):\")\n",
    "    print(grad_input, grad_input[0].detach().sum())  # grad_output[0] contains the gradients with respect to the output"
   ]
  },
  {
   "cell_type": "code",
   "execution_count": 8,
   "metadata": {},
   "outputs": [
    {
     "data": {
      "text/plain": [
       "<torch.utils.hooks.RemovableHandle at 0x13dca1c70>"
      ]
     },
     "execution_count": 8,
     "metadata": {},
     "output_type": "execute_result"
    }
   ],
   "source": [
    "list(layer.named_children())[1][1].register_full_backward_hook(print_backward_hook)\n",
    "list(layer.named_children())[0][1].register_full_backward_hook(print_backward_hook)"
   ]
  },
  {
   "cell_type": "code",
   "execution_count": 9,
   "metadata": {},
   "outputs": [],
   "source": [
    "from captum.attr import LRP\n",
    "\n",
    "epic = LRP(layer)"
   ]
  },
  {
   "cell_type": "code",
   "execution_count": 10,
   "metadata": {},
   "outputs": [
    {
     "name": "stdout",
     "output_type": "stream",
     "text": [
      "Backward pass gradients (relevances):\n",
      "(tensor([1.]),) tensor(1.)\n",
      "Backward pass gradients - input (relevances):\n",
      "(tensor([[[0.7692, 0.0769],\n",
      "         [0.0769, 0.0769]]]),) tensor(1.)\n",
      "Backward pass gradients (relevances):\n",
      "(tensor([[[0.7692, 0.0769],\n",
      "         [0.0769, 0.0769]]]),) tensor(1.)\n",
      "Backward pass gradients - input (relevances):\n",
      "(tensor([[[0.0000, 0.0000, 0.0769, 0.0000],\n",
      "         [0.0000, 0.7692, 0.0000, 0.0000],\n",
      "         [0.0769, 0.0000, 0.0769, 0.0000],\n",
      "         [0.0000, 0.0000, 0.0000, 0.0000]]]),) tensor(1.)\n"
     ]
    },
    {
     "name": "stderr",
     "output_type": "stream",
     "text": [
      "/Users/kingpowa/miniconda3/envs/ai-env/lib/python3.12/site-packages/captum/_utils/gradient.py:57: UserWarning: Input Tensor 0 did not already require gradients, required_grads has been set automatically.\n",
      "  warnings.warn(\n"
     ]
    },
    {
     "data": {
      "text/plain": [
       "tensor([[[ 0.,  0.,  1.,  0.],\n",
       "         [ 0., 10.,  0.,  0.],\n",
       "         [ 1.,  0.,  1.,  0.],\n",
       "         [ 0.,  0.,  0.,  0.]]], grad_fn=<MulBackward0>)"
      ]
     },
     "execution_count": 10,
     "metadata": {},
     "output_type": "execute_result"
    }
   ],
   "source": [
    "epic.attribute(input)"
   ]
  }
 ],
 "metadata": {
  "kernelspec": {
   "display_name": "ai-env",
   "language": "python",
   "name": "python3"
  },
  "language_info": {
   "codemirror_mode": {
    "name": "ipython",
    "version": 3
   },
   "file_extension": ".py",
   "mimetype": "text/x-python",
   "name": "python",
   "nbconvert_exporter": "python",
   "pygments_lexer": "ipython3",
   "version": "3.12.8"
  }
 },
 "nbformat": 4,
 "nbformat_minor": 2
}
