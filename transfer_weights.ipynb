{
 "cells": [
  {
   "cell_type": "code",
   "execution_count": 1,
   "metadata": {},
   "outputs": [],
   "source": [
    "from model.utils.etc import WeightRepository"
   ]
  },
  {
   "cell_type": "code",
   "execution_count": 2,
   "metadata": {},
   "outputs": [],
   "source": [
    "from model.sfcn_reg import RegressionSFCN\n",
    "\n",
    "MIN_AGE = 3\n",
    "MAX_AGE = 95\n",
    "model = RegressionSFCN(prediction_range=(MIN_AGE, MAX_AGE))"
   ]
  },
  {
   "cell_type": "code",
   "execution_count": 34,
   "metadata": {},
   "outputs": [],
   "source": [
    "# Suppose you already have the weight path\n",
    "WEIGHT_PATH = '../.pyment/pyment/data/sfcn-regbrain-age-2022.h5'\n",
    "torch_weights = WeightRepository.convert_to_torch(WEIGHT_PATH, model.state_dict())"
   ]
  },
  {
   "cell_type": "code",
   "execution_count": 4,
   "metadata": {},
   "outputs": [
    {
     "name": "stdout",
     "output_type": "stream",
     "text": [
      "fn1.sfcn-reg_block1_conv.weight\n",
      "fn1.sfcn-reg_block1_conv.bias\n",
      "fn1.sfcn-reg_block1_norm.weight\n",
      "fn1.sfcn-reg_block1_norm.bias\n",
      "fn1.sfcn-reg_block1_norm.running_mean\n",
      "fn1.sfcn-reg_block1_norm.running_var\n",
      "fn1.sfcn-reg_block2_conv.weight\n",
      "fn1.sfcn-reg_block2_conv.bias\n",
      "fn1.sfcn-reg_block2_norm.weight\n",
      "fn1.sfcn-reg_block2_norm.bias\n",
      "fn1.sfcn-reg_block2_norm.running_mean\n",
      "fn1.sfcn-reg_block2_norm.running_var\n",
      "fn1.sfcn-reg_block3_conv.weight\n",
      "fn1.sfcn-reg_block3_conv.bias\n",
      "fn1.sfcn-reg_block3_norm.weight\n",
      "fn1.sfcn-reg_block3_norm.bias\n",
      "fn1.sfcn-reg_block3_norm.running_mean\n",
      "fn1.sfcn-reg_block3_norm.running_var\n",
      "fn1.sfcn-reg_block4_conv.weight\n",
      "fn1.sfcn-reg_block4_conv.bias\n",
      "fn1.sfcn-reg_block4_norm.weight\n",
      "fn1.sfcn-reg_block4_norm.bias\n",
      "fn1.sfcn-reg_block4_norm.running_mean\n",
      "fn1.sfcn-reg_block4_norm.running_var\n",
      "fn1.sfcn-reg_block5_conv.weight\n",
      "fn1.sfcn-reg_block5_conv.bias\n",
      "fn1.sfcn-reg_block5_norm.weight\n",
      "fn1.sfcn-reg_block5_norm.bias\n",
      "fn1.sfcn-reg_block5_norm.running_mean\n",
      "fn1.sfcn-reg_block5_norm.running_var\n",
      "fn1.sfcn-reg_top_conv.weight\n",
      "fn1.sfcn-reg_top_conv.bias\n",
      "fn1.sfcn-reg_top_norm.weight\n",
      "fn1.sfcn-reg_top_norm.bias\n",
      "fn1.sfcn-reg_top_norm.running_mean\n",
      "fn1.sfcn-reg_top_norm.running_var\n",
      "linear.sfcn-reg_predictions.weight\n",
      "linear.sfcn-reg_predictions.bias\n"
     ]
    }
   ],
   "source": [
    "# Check translation\n",
    "for key in torch_weights:\n",
    "    print(key)"
   ]
  },
  {
   "cell_type": "code",
   "execution_count": 5,
   "metadata": {},
   "outputs": [
    {
     "data": {
      "text/plain": [
       "<All keys matched successfully>"
      ]
     },
     "execution_count": 5,
     "metadata": {},
     "output_type": "execute_result"
    }
   ],
   "source": [
    "# Load into the model\n",
    "model.load_state_dict(torch_weights)"
   ]
  },
  {
   "cell_type": "code",
   "execution_count": 15,
   "metadata": {},
   "outputs": [],
   "source": [
    "# Prepare leonardsen model\n",
    "from pyment.models.sfcn_reg import RegressionSFCN\n",
    "\n",
    "original_model = RegressionSFCN(prediction_range=(MAX_AGE, MIN_AGE), name=\"sfcn_reg\")\n",
    "original_model.weight_name = \"brain-age-2022\""
   ]
  },
  {
   "cell_type": "code",
   "execution_count": 7,
   "metadata": {},
   "outputs": [],
   "source": [
    "tf_weights = WeightRepository.load_tf_weights(weights_path=WEIGHT_PATH)"
   ]
  },
  {
   "cell_type": "code",
   "execution_count": 26,
   "metadata": {},
   "outputs": [],
   "source": [
    "original_model.set_weights(list(tf_weights.values()))"
   ]
  },
  {
   "cell_type": "code",
   "execution_count": 28,
   "metadata": {},
   "outputs": [
    {
     "name": "stderr",
     "output_type": "stream",
     "text": [
      " 14%|█▍        | 12/83 [00:18<01:46,  1.49s/it]"
     ]
    },
    {
     "name": "stdout",
     "output_type": "stream",
     "text": [
      "Skipping IXI081: Missing labels\n"
     ]
    },
    {
     "name": "stderr",
     "output_type": "stream",
     "text": [
      " 20%|██        | 17/83 [00:24<01:29,  1.36s/it]"
     ]
    },
    {
     "name": "stdout",
     "output_type": "stream",
     "text": [
      "Skipping IXI088: Missing labels\n"
     ]
    },
    {
     "name": "stderr",
     "output_type": "stream",
     "text": [
      "100%|██████████| 83/83 [02:05<00:00,  1.51s/it]\n"
     ]
    }
   ],
   "source": [
    "# Prepare data as original\n",
    "import os\n",
    "import numpy as np\n",
    "from tqdm import tqdm\n",
    "import nibabel as nib\n",
    "import pandas as pd\n",
    "import torch\n",
    "\n",
    "LABELS_FILE = \"../test_data/IXI/IXI.xls\"\n",
    "labels = pd.read_excel(LABELS_FILE)\n",
    "\n",
    "IMAGE_FOLDER = \"../test_data/IXI\"\n",
    "predictions_leo = []\n",
    "predictions_torch = []\n",
    "\n",
    "# Set torch model to eval mode\n",
    "model.eval()\n",
    "\n",
    "for subject in tqdm(os.listdir(IMAGE_FOLDER)):#\n",
    "    if \"IXI\" in subject and os.path.isdir(os.path.join(IMAGE_FOLDER, subject)):\n",
    "        path = os.path.join(IMAGE_FOLDER, subject, 'cropped.nii.gz')\n",
    "        subjectid = int(subject[3:])\n",
    "        if not os.path.isfile(path):\n",
    "            print(f'Skipping {subject}: Missing cropped.nii.gz')\n",
    "            continue\n",
    "        elif subjectid not in labels['IXI_ID'].values:\n",
    "            print(f'Skipping {subject}: Missing labels')\n",
    "            continue\n",
    "\n",
    "        age = labels.loc[labels['IXI_ID'] == subjectid, 'AGE'].values[0]\n",
    "        \n",
    "        img = nib.load(path)\n",
    "        img = img.get_fdata()\n",
    "\n",
    "        img = np.expand_dims(img, 0)\n",
    "\n",
    "        with torch.no_grad():\n",
    "            prediction: torch.Tensor = model(torch.from_numpy(img).unsqueeze(0).float())[0]\n",
    "            prediction = prediction.squeeze(0).item()\n",
    "            predictions_torch.append({\n",
    "                'subject': subject,\n",
    "                'age': age,\n",
    "                'prediction': prediction\n",
    "            })\n",
    "\n",
    "        prediction: np.ndarray = original_model.predict(np.expand_dims(img, -1), verbose=0)[0]\n",
    "        prediction = original_model.postprocess(prediction)\n",
    "        predictions_leo.append({\n",
    "                'subject': subject,\n",
    "                'age': age,\n",
    "                'prediction': prediction\n",
    "            })\n"
   ]
  },
  {
   "cell_type": "code",
   "execution_count": 30,
   "metadata": {},
   "outputs": [
    {
     "data": {
      "text/plain": [
       "(array(27.239164, dtype=float32), 27.23916244506836)"
      ]
     },
     "execution_count": 30,
     "metadata": {},
     "output_type": "execute_result"
    }
   ],
   "source": [
    "# Taking a random prediction...\n",
    "\n",
    "predictions_leo[20]['prediction'], predictions_torch[20]['prediction']"
   ]
  },
  {
   "cell_type": "code",
   "execution_count": 33,
   "metadata": {},
   "outputs": [
    {
     "data": {
      "application/vnd.plotly.v1+json": {
       "config": {
        "plotlyServerURL": "https://plot.ly"
       },
       "data": [
        {
         "showlegend": false,
         "type": "scatter",
         "x": [
          3,
          95
         ],
         "xaxis": "x",
         "y": [
          3,
          95
         ],
         "yaxis": "y"
        },
        {
         "mode": "markers",
         "showlegend": false,
         "type": "scatter",
         "x": [
          27.56787109375,
          48.70866012573242,
          36.45260238647461,
          50.82895278930664,
          21.202007293701172,
          23.89617347717285,
          27.294466018676758,
          36.46052932739258,
          32.93251037597656,
          59.1744384765625,
          64.93899536132812,
          44.84550857543945,
          34.66168975830078,
          69.6189193725586,
          50.949100494384766,
          24.659849166870117,
          70.412841796875,
          34.882232666015625,
          62.7489013671875,
          36.327735900878906,
          27.239164352416992,
          46.143287658691406,
          57.27982711791992,
          31.415897369384766,
          33.17732238769531,
          27.82583236694336,
          47.937320709228516,
          64.19076538085938,
          30.346723556518555,
          30.25567626953125,
          23.861331939697266,
          25.831390380859375,
          35.13642120361328,
          32.383949279785156,
          23.479188919067383,
          25.389989852905273,
          33.925079345703125,
          25.932863235473633,
          33.71222686767578,
          25.446121215820312,
          26.796546936035156,
          36.31947326660156,
          30.786724090576172,
          29.745418548583984,
          36.236690521240234,
          33.729209899902344,
          34.70045471191406,
          26.739866256713867,
          33.37324905395508,
          42.95808410644531,
          43.36750030517578,
          22.23004150390625,
          42.520530700683594,
          46.71762466430664,
          39.48155975341797,
          38.008079528808594,
          33.8446044921875,
          29.801633834838867,
          34.817626953125,
          57.827964782714844,
          29.834535598754883,
          46.023643493652344,
          28.225074768066406,
          32.34671401977539,
          30.48628044128418,
          36.66747283935547,
          30.819293975830078,
          39.51763153076172,
          58.21805191040039,
          21.822111129760742,
          22.223007202148438,
          36.67871856689453,
          30.154876708984375,
          49.6118278503418,
          40.35358428955078,
          26.18999481201172,
          47.586917877197266,
          37.64252471923828,
          45.25083541870117,
          25.631345748901367
         ],
         "xaxis": "x",
         "y": [
          27.822039698836413,
          49.40451745379877,
          40.035592060232716,
          46.365503080082135,
          25.661875427789184,
          21.19917864476386,
          22.532511978097194,
          39.46611909650924,
          30.417522245037645,
          59.22245037645448,
          55.167693360711844,
          35.9917864476386,
          30.069815195071868,
          68.60232717316906,
          44.851471594798085,
          22.647501711156742,
          74.02600958247776,
          29.09240246406571,
          58.65845311430527,
          34.47775496235455,
          21.56605065023956,
          37.14442162902122,
          59.00342231348392,
          24.895277207392198,
          34.13826146475017,
          33.24024640657084,
          46.168377823408626,
          63.186858316221766,
          24.569472963723477,
          28.15879534565366,
          24.34223134839151,
          24.763860369609855,
          35.800136892539356,
          26.272416153319643,
          25.93839835728953,
          25.741273100616016,
          29.27857631759069,
          24.689938398357288,
          26.87748117727584,
          24.854209445585216,
          30.699520876112253,
          37.6974674880219,
          33.07871321013005,
          24.28473648186174,
          38.78165639972622,
          37.73305954825462,
          52.53388090349076,
          27.38945927446954,
          30.89390828199863,
          36.479123887748116,
          50.65023956194388,
          20.698151950718685,
          38.234086242299796,
          46.71047227926078,
          34.23682409308692,
          30.67214236824093,
          29.779603011635867,
          31.849418206707735,
          37.002053388090346,
          55.827515400410675,
          31.854893908281998,
          44.09308692676249,
          28.50650239561944,
          28.61327857631759,
          23.71526351813826,
          36.21629021218344,
          26.924024640657084,
          41.752224503764545,
          53.30595482546201,
          21.38261464750171,
          23.537303216974674,
          31.134839151266256,
          33.76317590691308,
          49.40451745379877,
          41.12251882272416,
          20.071184120465436,
          41.82067077344285,
          31.460643394934976,
          37.210130047912386,
          23.34839151266256
         ],
         "yaxis": "y"
        },
        {
         "showlegend": false,
         "type": "scatter",
         "x": [
          3,
          95
         ],
         "xaxis": "x2",
         "y": [
          3,
          95
         ],
         "yaxis": "y2"
        },
        {
         "mode": "markers",
         "showlegend": false,
         "type": "scatter",
         "x": [
          27.567873001098633,
          48.70867919921875,
          36.452598571777344,
          50.82899856567383,
          21.20201873779297,
          23.89617919921875,
          27.29446792602539,
          36.46055603027344,
          32.93250274658203,
          59.174442291259766,
          64.93901062011719,
          44.845516204833984,
          34.66168975830078,
          69.61891174316406,
          50.94907760620117,
          24.659862518310547,
          70.41287231445312,
          34.88223648071289,
          62.74892044067383,
          36.32774353027344,
          27.23916244506836,
          46.143310546875,
          57.27982711791992,
          31.415904998779297,
          33.177330017089844,
          27.825824737548828,
          47.93734359741211,
          64.1907958984375,
          30.346729278564453,
          30.255672454833984,
          23.861345291137695,
          25.831382751464844,
          35.13642883300781,
          32.38394546508789,
          23.479190826416016,
          25.389991760253906,
          33.92508316040039,
          25.9328556060791,
          33.71223068237305,
          25.446128845214844,
          26.796560287475586,
          36.319480895996094,
          30.786731719970703,
          29.74541473388672,
          36.23670959472656,
          33.72922897338867,
          34.700443267822266,
          26.73987579345703,
          33.37326431274414,
          42.95811080932617,
          43.367523193359375,
          22.230045318603516,
          42.52054214477539,
          46.717628479003906,
          39.481544494628906,
          38.008094787597656,
          33.8446044921875,
          29.801651000976562,
          34.817623138427734,
          57.82796859741211,
          29.834543228149414,
          46.02365493774414,
          28.225069046020508,
          32.34672927856445,
          30.486299514770508,
          36.6674919128418,
          30.819305419921875,
          39.51763153076172,
          58.218074798583984,
          21.82211685180664,
          22.223005294799805,
          36.67873001098633,
          30.154884338378906,
          49.61183166503906,
          40.353607177734375,
          26.189983367919922,
          47.586917877197266,
          37.64252471923828,
          45.2508430480957,
          25.63134765625
         ],
         "xaxis": "x2",
         "y": [
          27.822039698836413,
          49.40451745379877,
          40.035592060232716,
          46.365503080082135,
          25.661875427789184,
          21.19917864476386,
          22.532511978097194,
          39.46611909650924,
          30.417522245037645,
          59.22245037645448,
          55.167693360711844,
          35.9917864476386,
          30.069815195071868,
          68.60232717316906,
          44.851471594798085,
          22.647501711156742,
          74.02600958247776,
          29.09240246406571,
          58.65845311430527,
          34.47775496235455,
          21.56605065023956,
          37.14442162902122,
          59.00342231348392,
          24.895277207392198,
          34.13826146475017,
          33.24024640657084,
          46.168377823408626,
          63.186858316221766,
          24.569472963723477,
          28.15879534565366,
          24.34223134839151,
          24.763860369609855,
          35.800136892539356,
          26.272416153319643,
          25.93839835728953,
          25.741273100616016,
          29.27857631759069,
          24.689938398357288,
          26.87748117727584,
          24.854209445585216,
          30.699520876112253,
          37.6974674880219,
          33.07871321013005,
          24.28473648186174,
          38.78165639972622,
          37.73305954825462,
          52.53388090349076,
          27.38945927446954,
          30.89390828199863,
          36.479123887748116,
          50.65023956194388,
          20.698151950718685,
          38.234086242299796,
          46.71047227926078,
          34.23682409308692,
          30.67214236824093,
          29.779603011635867,
          31.849418206707735,
          37.002053388090346,
          55.827515400410675,
          31.854893908281998,
          44.09308692676249,
          28.50650239561944,
          28.61327857631759,
          23.71526351813826,
          36.21629021218344,
          26.924024640657084,
          41.752224503764545,
          53.30595482546201,
          21.38261464750171,
          23.537303216974674,
          31.134839151266256,
          33.76317590691308,
          49.40451745379877,
          41.12251882272416,
          20.071184120465436,
          41.82067077344285,
          31.460643394934976,
          37.210130047912386,
          23.34839151266256
         ],
         "yaxis": "y2"
        }
       ],
       "layout": {
        "annotations": [
         {
          "showarrow": false,
          "text": "MAE (Leo)=3.60",
          "x": 70,
          "xref": "x",
          "y": 15,
          "yref": "y"
         },
         {
          "showarrow": false,
          "text": "MAE (Torch)=3.60",
          "x": 70,
          "xref": "x2",
          "y": 15,
          "yref": "y2"
         }
        ],
        "height": 512,
        "template": {
         "data": {
          "bar": [
           {
            "error_x": {
             "color": "#2a3f5f"
            },
            "error_y": {
             "color": "#2a3f5f"
            },
            "marker": {
             "line": {
              "color": "#E5ECF6",
              "width": 0.5
             },
             "pattern": {
              "fillmode": "overlay",
              "size": 10,
              "solidity": 0.2
             }
            },
            "type": "bar"
           }
          ],
          "barpolar": [
           {
            "marker": {
             "line": {
              "color": "#E5ECF6",
              "width": 0.5
             },
             "pattern": {
              "fillmode": "overlay",
              "size": 10,
              "solidity": 0.2
             }
            },
            "type": "barpolar"
           }
          ],
          "carpet": [
           {
            "aaxis": {
             "endlinecolor": "#2a3f5f",
             "gridcolor": "white",
             "linecolor": "white",
             "minorgridcolor": "white",
             "startlinecolor": "#2a3f5f"
            },
            "baxis": {
             "endlinecolor": "#2a3f5f",
             "gridcolor": "white",
             "linecolor": "white",
             "minorgridcolor": "white",
             "startlinecolor": "#2a3f5f"
            },
            "type": "carpet"
           }
          ],
          "choropleth": [
           {
            "colorbar": {
             "outlinewidth": 0,
             "ticks": ""
            },
            "type": "choropleth"
           }
          ],
          "contour": [
           {
            "colorbar": {
             "outlinewidth": 0,
             "ticks": ""
            },
            "colorscale": [
             [
              0,
              "#0d0887"
             ],
             [
              0.1111111111111111,
              "#46039f"
             ],
             [
              0.2222222222222222,
              "#7201a8"
             ],
             [
              0.3333333333333333,
              "#9c179e"
             ],
             [
              0.4444444444444444,
              "#bd3786"
             ],
             [
              0.5555555555555556,
              "#d8576b"
             ],
             [
              0.6666666666666666,
              "#ed7953"
             ],
             [
              0.7777777777777778,
              "#fb9f3a"
             ],
             [
              0.8888888888888888,
              "#fdca26"
             ],
             [
              1,
              "#f0f921"
             ]
            ],
            "type": "contour"
           }
          ],
          "contourcarpet": [
           {
            "colorbar": {
             "outlinewidth": 0,
             "ticks": ""
            },
            "type": "contourcarpet"
           }
          ],
          "heatmap": [
           {
            "colorbar": {
             "outlinewidth": 0,
             "ticks": ""
            },
            "colorscale": [
             [
              0,
              "#0d0887"
             ],
             [
              0.1111111111111111,
              "#46039f"
             ],
             [
              0.2222222222222222,
              "#7201a8"
             ],
             [
              0.3333333333333333,
              "#9c179e"
             ],
             [
              0.4444444444444444,
              "#bd3786"
             ],
             [
              0.5555555555555556,
              "#d8576b"
             ],
             [
              0.6666666666666666,
              "#ed7953"
             ],
             [
              0.7777777777777778,
              "#fb9f3a"
             ],
             [
              0.8888888888888888,
              "#fdca26"
             ],
             [
              1,
              "#f0f921"
             ]
            ],
            "type": "heatmap"
           }
          ],
          "heatmapgl": [
           {
            "colorbar": {
             "outlinewidth": 0,
             "ticks": ""
            },
            "colorscale": [
             [
              0,
              "#0d0887"
             ],
             [
              0.1111111111111111,
              "#46039f"
             ],
             [
              0.2222222222222222,
              "#7201a8"
             ],
             [
              0.3333333333333333,
              "#9c179e"
             ],
             [
              0.4444444444444444,
              "#bd3786"
             ],
             [
              0.5555555555555556,
              "#d8576b"
             ],
             [
              0.6666666666666666,
              "#ed7953"
             ],
             [
              0.7777777777777778,
              "#fb9f3a"
             ],
             [
              0.8888888888888888,
              "#fdca26"
             ],
             [
              1,
              "#f0f921"
             ]
            ],
            "type": "heatmapgl"
           }
          ],
          "histogram": [
           {
            "marker": {
             "pattern": {
              "fillmode": "overlay",
              "size": 10,
              "solidity": 0.2
             }
            },
            "type": "histogram"
           }
          ],
          "histogram2d": [
           {
            "colorbar": {
             "outlinewidth": 0,
             "ticks": ""
            },
            "colorscale": [
             [
              0,
              "#0d0887"
             ],
             [
              0.1111111111111111,
              "#46039f"
             ],
             [
              0.2222222222222222,
              "#7201a8"
             ],
             [
              0.3333333333333333,
              "#9c179e"
             ],
             [
              0.4444444444444444,
              "#bd3786"
             ],
             [
              0.5555555555555556,
              "#d8576b"
             ],
             [
              0.6666666666666666,
              "#ed7953"
             ],
             [
              0.7777777777777778,
              "#fb9f3a"
             ],
             [
              0.8888888888888888,
              "#fdca26"
             ],
             [
              1,
              "#f0f921"
             ]
            ],
            "type": "histogram2d"
           }
          ],
          "histogram2dcontour": [
           {
            "colorbar": {
             "outlinewidth": 0,
             "ticks": ""
            },
            "colorscale": [
             [
              0,
              "#0d0887"
             ],
             [
              0.1111111111111111,
              "#46039f"
             ],
             [
              0.2222222222222222,
              "#7201a8"
             ],
             [
              0.3333333333333333,
              "#9c179e"
             ],
             [
              0.4444444444444444,
              "#bd3786"
             ],
             [
              0.5555555555555556,
              "#d8576b"
             ],
             [
              0.6666666666666666,
              "#ed7953"
             ],
             [
              0.7777777777777778,
              "#fb9f3a"
             ],
             [
              0.8888888888888888,
              "#fdca26"
             ],
             [
              1,
              "#f0f921"
             ]
            ],
            "type": "histogram2dcontour"
           }
          ],
          "mesh3d": [
           {
            "colorbar": {
             "outlinewidth": 0,
             "ticks": ""
            },
            "type": "mesh3d"
           }
          ],
          "parcoords": [
           {
            "line": {
             "colorbar": {
              "outlinewidth": 0,
              "ticks": ""
             }
            },
            "type": "parcoords"
           }
          ],
          "pie": [
           {
            "automargin": true,
            "type": "pie"
           }
          ],
          "scatter": [
           {
            "fillpattern": {
             "fillmode": "overlay",
             "size": 10,
             "solidity": 0.2
            },
            "type": "scatter"
           }
          ],
          "scatter3d": [
           {
            "line": {
             "colorbar": {
              "outlinewidth": 0,
              "ticks": ""
             }
            },
            "marker": {
             "colorbar": {
              "outlinewidth": 0,
              "ticks": ""
             }
            },
            "type": "scatter3d"
           }
          ],
          "scattercarpet": [
           {
            "marker": {
             "colorbar": {
              "outlinewidth": 0,
              "ticks": ""
             }
            },
            "type": "scattercarpet"
           }
          ],
          "scattergeo": [
           {
            "marker": {
             "colorbar": {
              "outlinewidth": 0,
              "ticks": ""
             }
            },
            "type": "scattergeo"
           }
          ],
          "scattergl": [
           {
            "marker": {
             "colorbar": {
              "outlinewidth": 0,
              "ticks": ""
             }
            },
            "type": "scattergl"
           }
          ],
          "scattermapbox": [
           {
            "marker": {
             "colorbar": {
              "outlinewidth": 0,
              "ticks": ""
             }
            },
            "type": "scattermapbox"
           }
          ],
          "scatterpolar": [
           {
            "marker": {
             "colorbar": {
              "outlinewidth": 0,
              "ticks": ""
             }
            },
            "type": "scatterpolar"
           }
          ],
          "scatterpolargl": [
           {
            "marker": {
             "colorbar": {
              "outlinewidth": 0,
              "ticks": ""
             }
            },
            "type": "scatterpolargl"
           }
          ],
          "scatterternary": [
           {
            "marker": {
             "colorbar": {
              "outlinewidth": 0,
              "ticks": ""
             }
            },
            "type": "scatterternary"
           }
          ],
          "surface": [
           {
            "colorbar": {
             "outlinewidth": 0,
             "ticks": ""
            },
            "colorscale": [
             [
              0,
              "#0d0887"
             ],
             [
              0.1111111111111111,
              "#46039f"
             ],
             [
              0.2222222222222222,
              "#7201a8"
             ],
             [
              0.3333333333333333,
              "#9c179e"
             ],
             [
              0.4444444444444444,
              "#bd3786"
             ],
             [
              0.5555555555555556,
              "#d8576b"
             ],
             [
              0.6666666666666666,
              "#ed7953"
             ],
             [
              0.7777777777777778,
              "#fb9f3a"
             ],
             [
              0.8888888888888888,
              "#fdca26"
             ],
             [
              1,
              "#f0f921"
             ]
            ],
            "type": "surface"
           }
          ],
          "table": [
           {
            "cells": {
             "fill": {
              "color": "#EBF0F8"
             },
             "line": {
              "color": "white"
             }
            },
            "header": {
             "fill": {
              "color": "#C8D4E3"
             },
             "line": {
              "color": "white"
             }
            },
            "type": "table"
           }
          ]
         },
         "layout": {
          "annotationdefaults": {
           "arrowcolor": "#2a3f5f",
           "arrowhead": 0,
           "arrowwidth": 1
          },
          "autotypenumbers": "strict",
          "coloraxis": {
           "colorbar": {
            "outlinewidth": 0,
            "ticks": ""
           }
          },
          "colorscale": {
           "diverging": [
            [
             0,
             "#8e0152"
            ],
            [
             0.1,
             "#c51b7d"
            ],
            [
             0.2,
             "#de77ae"
            ],
            [
             0.3,
             "#f1b6da"
            ],
            [
             0.4,
             "#fde0ef"
            ],
            [
             0.5,
             "#f7f7f7"
            ],
            [
             0.6,
             "#e6f5d0"
            ],
            [
             0.7,
             "#b8e186"
            ],
            [
             0.8,
             "#7fbc41"
            ],
            [
             0.9,
             "#4d9221"
            ],
            [
             1,
             "#276419"
            ]
           ],
           "sequential": [
            [
             0,
             "#0d0887"
            ],
            [
             0.1111111111111111,
             "#46039f"
            ],
            [
             0.2222222222222222,
             "#7201a8"
            ],
            [
             0.3333333333333333,
             "#9c179e"
            ],
            [
             0.4444444444444444,
             "#bd3786"
            ],
            [
             0.5555555555555556,
             "#d8576b"
            ],
            [
             0.6666666666666666,
             "#ed7953"
            ],
            [
             0.7777777777777778,
             "#fb9f3a"
            ],
            [
             0.8888888888888888,
             "#fdca26"
            ],
            [
             1,
             "#f0f921"
            ]
           ],
           "sequentialminus": [
            [
             0,
             "#0d0887"
            ],
            [
             0.1111111111111111,
             "#46039f"
            ],
            [
             0.2222222222222222,
             "#7201a8"
            ],
            [
             0.3333333333333333,
             "#9c179e"
            ],
            [
             0.4444444444444444,
             "#bd3786"
            ],
            [
             0.5555555555555556,
             "#d8576b"
            ],
            [
             0.6666666666666666,
             "#ed7953"
            ],
            [
             0.7777777777777778,
             "#fb9f3a"
            ],
            [
             0.8888888888888888,
             "#fdca26"
            ],
            [
             1,
             "#f0f921"
            ]
           ]
          },
          "colorway": [
           "#636efa",
           "#EF553B",
           "#00cc96",
           "#ab63fa",
           "#FFA15A",
           "#19d3f3",
           "#FF6692",
           "#B6E880",
           "#FF97FF",
           "#FECB52"
          ],
          "font": {
           "color": "#2a3f5f"
          },
          "geo": {
           "bgcolor": "white",
           "lakecolor": "white",
           "landcolor": "#E5ECF6",
           "showlakes": true,
           "showland": true,
           "subunitcolor": "white"
          },
          "hoverlabel": {
           "align": "left"
          },
          "hovermode": "closest",
          "mapbox": {
           "style": "light"
          },
          "paper_bgcolor": "white",
          "plot_bgcolor": "#E5ECF6",
          "polar": {
           "angularaxis": {
            "gridcolor": "white",
            "linecolor": "white",
            "ticks": ""
           },
           "bgcolor": "#E5ECF6",
           "radialaxis": {
            "gridcolor": "white",
            "linecolor": "white",
            "ticks": ""
           }
          },
          "scene": {
           "xaxis": {
            "backgroundcolor": "#E5ECF6",
            "gridcolor": "white",
            "gridwidth": 2,
            "linecolor": "white",
            "showbackground": true,
            "ticks": "",
            "zerolinecolor": "white"
           },
           "yaxis": {
            "backgroundcolor": "#E5ECF6",
            "gridcolor": "white",
            "gridwidth": 2,
            "linecolor": "white",
            "showbackground": true,
            "ticks": "",
            "zerolinecolor": "white"
           },
           "zaxis": {
            "backgroundcolor": "#E5ECF6",
            "gridcolor": "white",
            "gridwidth": 2,
            "linecolor": "white",
            "showbackground": true,
            "ticks": "",
            "zerolinecolor": "white"
           }
          },
          "shapedefaults": {
           "line": {
            "color": "#2a3f5f"
           }
          },
          "ternary": {
           "aaxis": {
            "gridcolor": "white",
            "linecolor": "white",
            "ticks": ""
           },
           "baxis": {
            "gridcolor": "white",
            "linecolor": "white",
            "ticks": ""
           },
           "bgcolor": "#E5ECF6",
           "caxis": {
            "gridcolor": "white",
            "linecolor": "white",
            "ticks": ""
           }
          },
          "title": {
           "x": 0.05
          },
          "xaxis": {
           "automargin": true,
           "gridcolor": "white",
           "linecolor": "white",
           "ticks": "",
           "title": {
            "standoff": 15
           },
           "zerolinecolor": "white",
           "zerolinewidth": 2
          },
          "yaxis": {
           "automargin": true,
           "gridcolor": "white",
           "linecolor": "white",
           "ticks": "",
           "title": {
            "standoff": 15
           },
           "zerolinecolor": "white",
           "zerolinewidth": 2
          }
         }
        },
        "title": {
         "text": "RegressionSFCN with weights=brain-age-2022",
         "x": 0.5
        },
        "width": 1024,
        "xaxis": {
         "anchor": "y",
         "domain": [
          0,
          0.45
         ],
         "range": [
          3,
          95
         ],
         "title": {
          "text": "Prediction"
         }
        },
        "xaxis2": {
         "anchor": "y2",
         "domain": [
          0.55,
          1
         ],
         "range": [
          3,
          95
         ],
         "title": {
          "text": "Prediction"
         }
        },
        "yaxis": {
         "anchor": "x",
         "domain": [
          0,
          1
         ],
         "range": [
          3,
          95
         ],
         "title": {
          "text": "Age"
         }
        },
        "yaxis2": {
         "anchor": "x2",
         "domain": [
          0,
          1
         ],
         "range": [
          3,
          95
         ],
         "title": {
          "text": "Age"
         }
        }
       }
      }
     },
     "metadata": {},
     "output_type": "display_data"
    }
   ],
   "source": [
    "# Using original pyment comparision\n",
    "import plotly.graph_objs as go\n",
    "from plotly.subplots import make_subplots\n",
    "\n",
    "df_pred_leo = pd.DataFrame(predictions_leo)\n",
    "df_pred_torch = pd.DataFrame(predictions_torch)\n",
    "\n",
    "fig = make_subplots(rows=1, cols=2)\n",
    "\n",
    "fig.add_trace(\n",
    "    go.Scatter(\n",
    "        x=[MIN_AGE, MAX_AGE],\n",
    "        y=[MIN_AGE, MAX_AGE],\n",
    "        showlegend=False\n",
    "    ),\n",
    "    row = 1, col = 1\n",
    ")\n",
    "\n",
    "fig.add_trace(\n",
    "    go.Scatter(\n",
    "        x=df_pred_leo['prediction'],\n",
    "        y=df_pred_leo['age'],\n",
    "        mode='markers',\n",
    "        showlegend=False\n",
    "    ),\n",
    "    row = 1, col = 1\n",
    ")\n",
    "\n",
    "fig.add_trace(\n",
    "    go.Scatter(\n",
    "        x=[MIN_AGE, MAX_AGE],\n",
    "        y=[MIN_AGE, MAX_AGE],\n",
    "        showlegend=False\n",
    "    ),\n",
    "    row=1, col=2\n",
    ")\n",
    "\n",
    "fig.add_trace(\n",
    "    go.Scatter(\n",
    "        x=df_pred_torch['prediction'],\n",
    "        y=df_pred_torch['age'],\n",
    "        mode='markers',\n",
    "        showlegend=False\n",
    "    ),\n",
    "    row=1, col=2\n",
    ")\n",
    "\n",
    "\n",
    "mae_leo = np.mean(np.abs(df_pred_leo['prediction'] - df_pred_leo['age']))\n",
    "mae_torch = np.mean(np.abs(df_pred_torch['prediction'] - df_pred_torch['age']))\n",
    "\n",
    "fig.update_layout(\n",
    "    title={'x': 0.5, 'text': f'{model.__class__.__name__} with weights={original_model.weight_name}'},\n",
    "    width=1024,\n",
    "    height=512,\n",
    "    annotations=[\n",
    "        {'x': 70, 'y': 15, 'text': f'MAE (Leo)={mae_leo:.2f}', 'showarrow': False, 'xref': 'x1', 'yref': 'y1'},\n",
    "        {'x': 70, 'y': 15, 'text': f'MAE (Torch)={mae_torch:.2f}', 'showarrow': False, 'xref': 'x2', 'yref': 'y2'}\n",
    "    ],\n",
    "    xaxis1={'range': [MIN_AGE, MAX_AGE], 'title': 'Prediction'},\n",
    "    yaxis1={'range': [MIN_AGE, MAX_AGE], 'title': 'Age'},\n",
    "    xaxis2={'range': [MIN_AGE, MAX_AGE], 'title': 'Prediction'},\n",
    "    yaxis2={'range': [MIN_AGE, MAX_AGE], 'title': 'Age'}\n",
    ")\n",
    "\n",
    "fig.show()"
   ]
  }
 ],
 "metadata": {
  "kernelspec": {
   "display_name": "test-pyment",
   "language": "python",
   "name": "python3"
  },
  "language_info": {
   "codemirror_mode": {
    "name": "ipython",
    "version": 3
   },
   "file_extension": ".py",
   "mimetype": "text/x-python",
   "name": "python",
   "nbconvert_exporter": "python",
   "pygments_lexer": "ipython3",
   "version": "3.12.8"
  }
 },
 "nbformat": 4,
 "nbformat_minor": 2
}
